{
 "cells": [
  {
   "cell_type": "code",
   "execution_count": 1,
   "metadata": {
    "collapsed": true
   },
   "outputs": [],
   "source": [
    "import pandas as pd\n",
    "import seaborn as sns\n",
    "import matplotlib.pyplot as plt\n",
    "import numpy as np\n",
    "from sklearn.metrics import classification_report\n",
    "from sklearn.metrics import confusion_matrix\n",
    "from sklearn.cross_validation import train_test_split\n",
    "from sklearn.cross_validation import StratifiedKFold, permutation_test_score\n",
    "from sklearn.naive_bayes import BernoulliNB\n",
    "from sklearn.metrics import accuracy_score\n",
    "from sklearn.cross_validation import cross_val_score\n",
    "from sklearn.svm import SVC\n",
    "from sklearn.ensemble import RandomForestClassifier\n",
    "%matplotlib inline"
   ]
  },
  {
   "cell_type": "code",
   "execution_count": 94,
   "metadata": {
    "collapsed": false
   },
   "outputs": [
    {
     "data": {
      "text/html": [
       "<div>\n",
       "<table border=\"1\" class=\"dataframe\">\n",
       "  <thead>\n",
       "    <tr style=\"text-align: right;\">\n",
       "      <th></th>\n",
       "      <th>train_id</th>\n",
       "      <th>AA3</th>\n",
       "      <th>AA4</th>\n",
       "      <th>AA5</th>\n",
       "      <th>AA6</th>\n",
       "      <th>AA7</th>\n",
       "      <th>AA14</th>\n",
       "      <th>AA15</th>\n",
       "      <th>DG1</th>\n",
       "      <th>is_female</th>\n",
       "      <th>...</th>\n",
       "      <th>GN1</th>\n",
       "      <th>GN1_OTHERS</th>\n",
       "      <th>GN2</th>\n",
       "      <th>GN2_OTHERS</th>\n",
       "      <th>GN3</th>\n",
       "      <th>GN3_OTHERS</th>\n",
       "      <th>GN4</th>\n",
       "      <th>GN4_OTHERS</th>\n",
       "      <th>GN5</th>\n",
       "      <th>GN5_OTHERS</th>\n",
       "    </tr>\n",
       "  </thead>\n",
       "  <tbody>\n",
       "    <tr>\n",
       "      <th>0</th>\n",
       "      <td>0</td>\n",
       "      <td>3</td>\n",
       "      <td>32</td>\n",
       "      <td>3.0</td>\n",
       "      <td>99.0</td>\n",
       "      <td>323011</td>\n",
       "      <td>3854</td>\n",
       "      <td>481</td>\n",
       "      <td>1975</td>\n",
       "      <td>1</td>\n",
       "      <td>...</td>\n",
       "      <td>99.0</td>\n",
       "      <td>99</td>\n",
       "      <td>99</td>\n",
       "      <td>99</td>\n",
       "      <td>99</td>\n",
       "      <td>99</td>\n",
       "      <td>99</td>\n",
       "      <td>99</td>\n",
       "      <td>99</td>\n",
       "      <td>99</td>\n",
       "    </tr>\n",
       "    <tr>\n",
       "      <th>1</th>\n",
       "      <td>1</td>\n",
       "      <td>2</td>\n",
       "      <td>26</td>\n",
       "      <td>99.0</td>\n",
       "      <td>8.0</td>\n",
       "      <td>268131</td>\n",
       "      <td>2441</td>\n",
       "      <td>344</td>\n",
       "      <td>1981</td>\n",
       "      <td>1</td>\n",
       "      <td>...</td>\n",
       "      <td>99.0</td>\n",
       "      <td>99</td>\n",
       "      <td>1</td>\n",
       "      <td>99</td>\n",
       "      <td>2</td>\n",
       "      <td>99</td>\n",
       "      <td>2</td>\n",
       "      <td>99</td>\n",
       "      <td>2</td>\n",
       "      <td>99</td>\n",
       "    </tr>\n",
       "    <tr>\n",
       "      <th>2</th>\n",
       "      <td>2</td>\n",
       "      <td>1</td>\n",
       "      <td>16</td>\n",
       "      <td>99.0</td>\n",
       "      <td>7.0</td>\n",
       "      <td>167581</td>\n",
       "      <td>754</td>\n",
       "      <td>143</td>\n",
       "      <td>1995</td>\n",
       "      <td>1</td>\n",
       "      <td>...</td>\n",
       "      <td>1.0</td>\n",
       "      <td>99</td>\n",
       "      <td>2</td>\n",
       "      <td>99</td>\n",
       "      <td>2</td>\n",
       "      <td>99</td>\n",
       "      <td>2</td>\n",
       "      <td>99</td>\n",
       "      <td>2</td>\n",
       "      <td>99</td>\n",
       "    </tr>\n",
       "    <tr>\n",
       "      <th>3</th>\n",
       "      <td>3</td>\n",
       "      <td>4</td>\n",
       "      <td>44</td>\n",
       "      <td>5.0</td>\n",
       "      <td>99.0</td>\n",
       "      <td>445071</td>\n",
       "      <td>5705</td>\n",
       "      <td>604</td>\n",
       "      <td>1980</td>\n",
       "      <td>1</td>\n",
       "      <td>...</td>\n",
       "      <td>99.0</td>\n",
       "      <td>99</td>\n",
       "      <td>2</td>\n",
       "      <td>99</td>\n",
       "      <td>2</td>\n",
       "      <td>99</td>\n",
       "      <td>99</td>\n",
       "      <td>99</td>\n",
       "      <td>99</td>\n",
       "      <td>99</td>\n",
       "    </tr>\n",
       "    <tr>\n",
       "      <th>4</th>\n",
       "      <td>4</td>\n",
       "      <td>4</td>\n",
       "      <td>43</td>\n",
       "      <td>99.0</td>\n",
       "      <td>6.0</td>\n",
       "      <td>436161</td>\n",
       "      <td>5645</td>\n",
       "      <td>592</td>\n",
       "      <td>1958</td>\n",
       "      <td>1</td>\n",
       "      <td>...</td>\n",
       "      <td>99.0</td>\n",
       "      <td>99</td>\n",
       "      <td>1</td>\n",
       "      <td>99</td>\n",
       "      <td>1</td>\n",
       "      <td>99</td>\n",
       "      <td>1</td>\n",
       "      <td>99</td>\n",
       "      <td>1</td>\n",
       "      <td>99</td>\n",
       "    </tr>\n",
       "  </tbody>\n",
       "</table>\n",
       "<p>5 rows × 1235 columns</p>\n",
       "</div>"
      ],
      "text/plain": [
       "   train_id  AA3  AA4   AA5   AA6     AA7  AA14  AA15   DG1  is_female  \\\n",
       "0         0    3   32   3.0  99.0  323011  3854   481  1975          1   \n",
       "1         1    2   26  99.0   8.0  268131  2441   344  1981          1   \n",
       "2         2    1   16  99.0   7.0  167581   754   143  1995          1   \n",
       "3         3    4   44   5.0  99.0  445071  5705   604  1980          1   \n",
       "4         4    4   43  99.0   6.0  436161  5645   592  1958          1   \n",
       "\n",
       "      ...       GN1  GN1_OTHERS GN2  GN2_OTHERS  GN3  GN3_OTHERS  GN4  \\\n",
       "0     ...      99.0          99  99          99   99          99   99   \n",
       "1     ...      99.0          99   1          99    2          99    2   \n",
       "2     ...       1.0          99   2          99    2          99    2   \n",
       "3     ...      99.0          99   2          99    2          99   99   \n",
       "4     ...      99.0          99   1          99    1          99    1   \n",
       "\n",
       "   GN4_OTHERS  GN5  GN5_OTHERS  \n",
       "0          99   99          99  \n",
       "1          99    2          99  \n",
       "2          99    2          99  \n",
       "3          99   99          99  \n",
       "4          99    1          99  \n",
       "\n",
       "[5 rows x 1235 columns]"
      ]
     },
     "execution_count": 94,
     "metadata": {},
     "output_type": "execute_result"
    }
   ],
   "source": [
    "train = pd.read_csv('train.csv').fillna(99)\n",
    "train.head()"
   ]
  },
  {
   "cell_type": "code",
   "execution_count": 95,
   "metadata": {
    "collapsed": false
   },
   "outputs": [
    {
     "data": {
      "text/plain": [
       "(18255, 1235)"
      ]
     },
     "execution_count": 95,
     "metadata": {},
     "output_type": "execute_result"
    }
   ],
   "source": [
    "train.shape"
   ]
  },
  {
   "cell_type": "code",
   "execution_count": 96,
   "metadata": {
    "collapsed": true
   },
   "outputs": [],
   "source": [
    "train=train.select_dtypes(exclude=[np.object])"
   ]
  },
  {
   "cell_type": "code",
   "execution_count": 97,
   "metadata": {
    "collapsed": false
   },
   "outputs": [
    {
     "data": {
      "text/plain": [
       "(18255, 1139)"
      ]
     },
     "execution_count": 97,
     "metadata": {},
     "output_type": "execute_result"
    }
   ],
   "source": [
    "train.shape"
   ]
  },
  {
   "cell_type": "code",
   "execution_count": 98,
   "metadata": {
    "collapsed": false
   },
   "outputs": [
    {
     "data": {
      "text/plain": [
       "train_id           int64\n",
       "AA3                int64\n",
       "AA4                int64\n",
       "AA5              float64\n",
       "AA6              float64\n",
       "AA7                int64\n",
       "AA14               int64\n",
       "AA15               int64\n",
       "DG1                int64\n",
       "is_female          int64\n",
       "DG3                int64\n",
       "DG3A               int64\n",
       "DG4                int64\n",
       "DG4_OTHERS       float64\n",
       "DG5_1              int64\n",
       "DG5_2              int64\n",
       "DG5_3              int64\n",
       "DG5_4              int64\n",
       "DG5_5              int64\n",
       "DG5_6              int64\n",
       "DG5_7              int64\n",
       "DG5_8              int64\n",
       "DG5_9              int64\n",
       "DG5_10             int64\n",
       "DG5_11             int64\n",
       "DG5_96             int64\n",
       "DG6                int64\n",
       "DG8a               int64\n",
       "DG8b               int64\n",
       "DG8c               int64\n",
       "                  ...   \n",
       "FB27_96            int64\n",
       "FB28_1           float64\n",
       "FB28_2           float64\n",
       "FB28_3           float64\n",
       "FB28_4           float64\n",
       "FB28_5           float64\n",
       "FB28_6           float64\n",
       "FB28_7           float64\n",
       "FB28_8           float64\n",
       "FB28_9           float64\n",
       "FB28_96          float64\n",
       "FB28_3_OTHERS    float64\n",
       "FB29_1             int64\n",
       "FB29_2             int64\n",
       "FB29_3             int64\n",
       "FB29_4             int64\n",
       "FB29_5             int64\n",
       "FB29_6             int64\n",
       "FB29_96            int64\n",
       "LN1A               int64\n",
       "LN1B               int64\n",
       "LN2_1              int64\n",
       "LN2_2              int64\n",
       "LN2_3              int64\n",
       "LN2_4              int64\n",
       "GN1              float64\n",
       "GN2                int64\n",
       "GN3                int64\n",
       "GN4                int64\n",
       "GN5                int64\n",
       "dtype: object"
      ]
     },
     "execution_count": 98,
     "metadata": {},
     "output_type": "execute_result"
    }
   ],
   "source": [
    "train.dtypes"
   ]
  },
  {
   "cell_type": "code",
   "execution_count": 99,
   "metadata": {
    "collapsed": true
   },
   "outputs": [],
   "source": [
    "target_col = ['is_female']\n",
    "inc_col = [\"DG3\",\"DG4\",\"DG6\",\"DG12B_1\",\"DG12B_2\",\"DG12C_1\",\"DG12C_2\",\"DG13_1\",\"DG13_2\",\"DG13_3\",\"DG14\",\"DL0\",\"DL1\",\n",
    "           \"DL2\",\"DL4_5\",\"DL4_11\",\"DL4_15\",\"DL4_16\",\"DL4_17\",\"DL4_20\",\"DL4_21\",\"DL4_22\",\"DL4_23\",\"DL5\",\"DL7\",\"DL15\",\n",
    "           \"DL26_5\",\"DL27\",\"DL28\",\"G2P1_5\",\"G2P1_6\",\"G2P1_7\",\"G2P1_11\",\"G2P1_12\",\"G2P1_15\",\"G2P1_16\",\"MT1A\",\"MT2\",\n",
    "           \"MT6\",\"MT7\",\"MT7A\",\"MT9\",\"MT18_2\",\"MT18_3\",\"MT18_4\",\"MT18_5\",\"FF1\",\"FF2\",\"FF14_20\",\"FF16_12\",\"FF16_13\",\n",
    "           \"FF16_19\",\"FF16_20\",\"MM13\",\"IFI16_1\",\"IFI16_3\",\"IFI24\",\"FL1\",\"FL3\",\"FL4\",\"FL6_1\",\"FL6_2\",\"FL7_6\",\"FL8_3\",\n",
    "           \"FL8_6\",\"FL8_7\",\"FL9A\",\"FL9B\",\"FL9C\",\"FL10\",\"FL12\",\"FL13\",\"FL14\",\"FL16\",\"FL17\",\"FL18\",\"FB19\",\"FB20\",\"FB21\",\n",
    "           \"FB24\",\"FB25\",\"FB27_1\",\"FB27_2\",\"FB27_3\",\"FB27_4\",\"FB27_5\",\"FB27_6\",\"FB27_7\",\"FB27_8\",\"FB27_9\",\"FB27_96\",\n",
    "           \"LN1A\",\"LN1B\",\"LN2_1\",\"LN2_2\",\"LN2_3\",\"LN2_4\",\"GN1\",\"GN2\",\"GN3\",\"GN4\",\"GN5\",\"RI4\"]\n",
    "x_cols = [x for x in train.columns if x in inc_col]"
   ]
  },
  {
   "cell_type": "code",
   "execution_count": 100,
   "metadata": {
    "collapsed": true
   },
   "outputs": [],
   "source": [
    "X_train, X_test, y_train, y_test = train_test_split(train[x_cols], train['is_female'], test_size=1/7.0)"
   ]
  },
  {
   "cell_type": "code",
   "execution_count": 101,
   "metadata": {
    "collapsed": true
   },
   "outputs": [],
   "source": [
    "#standardizing the data for PCA\n",
    "from sklearn.preprocessing import StandardScaler\n",
    "scaler = StandardScaler()"
   ]
  },
  {
   "cell_type": "code",
   "execution_count": 102,
   "metadata": {
    "collapsed": false
   },
   "outputs": [],
   "source": [
    "scaler.fit(X_train)\n",
    "X_train = scaler.transform(X_train)\n",
    "X_test = scaler.transform(X_test)"
   ]
  },
  {
   "cell_type": "code",
   "execution_count": 103,
   "metadata": {
    "collapsed": true
   },
   "outputs": [],
   "source": [
    "from sklearn.decomposition import PCA"
   ]
  },
  {
   "cell_type": "code",
   "execution_count": 104,
   "metadata": {
    "collapsed": true
   },
   "outputs": [],
   "source": [
    "pca = PCA(.99)"
   ]
  },
  {
   "cell_type": "code",
   "execution_count": 105,
   "metadata": {
    "collapsed": false
   },
   "outputs": [
    {
     "data": {
      "text/plain": [
       "PCA(copy=True, n_components=0.99, whiten=False)"
      ]
     },
     "execution_count": 105,
     "metadata": {},
     "output_type": "execute_result"
    }
   ],
   "source": [
    "pca.fit(X_train)"
   ]
  },
  {
   "cell_type": "code",
   "execution_count": 106,
   "metadata": {
    "collapsed": false
   },
   "outputs": [
    {
     "data": {
      "text/plain": [
       "76"
      ]
     },
     "execution_count": 106,
     "metadata": {},
     "output_type": "execute_result"
    }
   ],
   "source": [
    "pca.n_components_"
   ]
  },
  {
   "cell_type": "code",
   "execution_count": 107,
   "metadata": {
    "collapsed": true
   },
   "outputs": [],
   "source": [
    "X_train = pca.transform(X_train)\n",
    "X_test = pca.transform(X_test)"
   ]
  },
  {
   "cell_type": "code",
   "execution_count": 108,
   "metadata": {
    "collapsed": false
   },
   "outputs": [
    {
     "data": {
      "text/plain": [
       "RandomForestClassifier(bootstrap=True, class_weight='balanced',\n",
       "            criterion='gini', max_depth=None, max_features='auto',\n",
       "            max_leaf_nodes=None, min_samples_leaf=1, min_samples_split=2,\n",
       "            min_weight_fraction_leaf=0.0, n_estimators=100, n_jobs=1,\n",
       "            oob_score=False, random_state=None, verbose=0,\n",
       "            warm_start=False)"
      ]
     },
     "execution_count": 108,
     "metadata": {},
     "output_type": "execute_result"
    }
   ],
   "source": [
    "rfc = RandomForestClassifier(n_estimators = 100, class_weight = 'balanced')\n",
    "rfc.fit(X_train, y_train)"
   ]
  },
  {
   "cell_type": "code",
   "execution_count": 109,
   "metadata": {
    "collapsed": true
   },
   "outputs": [],
   "source": [
    "rfc_pred = rfc.predict(X_test)"
   ]
  },
  {
   "cell_type": "code",
   "execution_count": 110,
   "metadata": {
    "collapsed": false
   },
   "outputs": [
    {
     "name": "stdout",
     "output_type": "stream",
     "text": [
      "[[ 858  298]\n",
      " [ 190 1262]]\n"
     ]
    }
   ],
   "source": [
    "print confusion_matrix(y_test, rfc_pred)"
   ]
  },
  {
   "cell_type": "code",
   "execution_count": 111,
   "metadata": {
    "collapsed": false
   },
   "outputs": [
    {
     "name": "stdout",
     "output_type": "stream",
     "text": [
      "             precision    recall  f1-score   support\n",
      "\n",
      "          0       0.82      0.74      0.78      1156\n",
      "          1       0.81      0.87      0.84      1452\n",
      "\n",
      "avg / total       0.81      0.81      0.81      2608\n",
      "\n"
     ]
    }
   ],
   "source": [
    "print classification_report(y_test, rfc_pred)"
   ]
  },
  {
   "cell_type": "code",
   "execution_count": null,
   "metadata": {
    "collapsed": true
   },
   "outputs": [],
   "source": [
    ""
   ]
  }
 ],
 "metadata": {
  "kernelspec": {
   "display_name": "Python 2",
   "language": "python",
   "name": "python2"
  },
  "language_info": {
   "codemirror_mode": {
    "name": "ipython",
    "version": 2.0
   },
   "file_extension": ".py",
   "mimetype": "text/x-python",
   "name": "python",
   "nbconvert_exporter": "python",
   "pygments_lexer": "ipython2",
   "version": "2.7.13"
  }
 },
 "nbformat": 4,
 "nbformat_minor": 0
}