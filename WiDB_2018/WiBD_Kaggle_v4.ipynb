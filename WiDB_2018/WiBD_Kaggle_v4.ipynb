{
 "cells": [
  {
   "cell_type": "code",
   "execution_count": 1,
   "metadata": {
    "collapsed": false
   },
   "outputs": [
    {
     "name": "stderr",
     "output_type": "stream",
     "text": [
      "/Users/nataliele.zhang/anaconda/lib/python2.7/site-packages/matplotlib/font_manager.py:273: UserWarning: Matplotlib is building the font cache using fc-list. This may take a moment.\n",
      "  warnings.warn('Matplotlib is building the font cache using fc-list. This may take a moment.')\n"
     ]
    }
   ],
   "source": [
    "import pandas as pd\n",
    "import seaborn as sns\n",
    "import matplotlib.pyplot as plt\n",
    "import numpy as np\n",
    "from sklearn.metrics import classification_report\n",
    "from sklearn.metrics import confusion_matrix\n",
    "from sklearn.cross_validation import train_test_split\n",
    "from sklearn.cross_validation import StratifiedKFold, permutation_test_score\n",
    "from sklearn.naive_bayes import BernoulliNB\n",
    "from sklearn.metrics import accuracy_score\n",
    "from sklearn.cross_validation import cross_val_score\n",
    "from sklearn.svm import SVC\n",
    "from sklearn.ensemble import RandomForestClassifier\n",
    "%matplotlib inline"
   ]
  },
  {
   "cell_type": "code",
   "execution_count": 37,
   "metadata": {
    "collapsed": false
   },
   "outputs": [
    {
     "data": {
      "text/html": [
       "<div>\n",
       "<table border=\"1\" class=\"dataframe\">\n",
       "  <thead>\n",
       "    <tr style=\"text-align: right;\">\n",
       "      <th></th>\n",
       "      <th>train_id</th>\n",
       "      <th>AA3</th>\n",
       "      <th>AA4</th>\n",
       "      <th>AA5</th>\n",
       "      <th>AA6</th>\n",
       "      <th>AA7</th>\n",
       "      <th>AA14</th>\n",
       "      <th>AA15</th>\n",
       "      <th>DG1</th>\n",
       "      <th>is_female</th>\n",
       "      <th>...</th>\n",
       "      <th>GN1</th>\n",
       "      <th>GN1_OTHERS</th>\n",
       "      <th>GN2</th>\n",
       "      <th>GN2_OTHERS</th>\n",
       "      <th>GN3</th>\n",
       "      <th>GN3_OTHERS</th>\n",
       "      <th>GN4</th>\n",
       "      <th>GN4_OTHERS</th>\n",
       "      <th>GN5</th>\n",
       "      <th>GN5_OTHERS</th>\n",
       "    </tr>\n",
       "  </thead>\n",
       "  <tbody>\n",
       "    <tr>\n",
       "      <th>0</th>\n",
       "      <td>0</td>\n",
       "      <td>3</td>\n",
       "      <td>32</td>\n",
       "      <td>3.0</td>\n",
       "      <td>99.0</td>\n",
       "      <td>323011</td>\n",
       "      <td>3854</td>\n",
       "      <td>481</td>\n",
       "      <td>1975</td>\n",
       "      <td>1</td>\n",
       "      <td>...</td>\n",
       "      <td>99.0</td>\n",
       "      <td>99</td>\n",
       "      <td>99</td>\n",
       "      <td>99</td>\n",
       "      <td>99</td>\n",
       "      <td>99</td>\n",
       "      <td>99</td>\n",
       "      <td>99</td>\n",
       "      <td>99</td>\n",
       "      <td>99</td>\n",
       "    </tr>\n",
       "    <tr>\n",
       "      <th>1</th>\n",
       "      <td>1</td>\n",
       "      <td>2</td>\n",
       "      <td>26</td>\n",
       "      <td>99.0</td>\n",
       "      <td>8.0</td>\n",
       "      <td>268131</td>\n",
       "      <td>2441</td>\n",
       "      <td>344</td>\n",
       "      <td>1981</td>\n",
       "      <td>1</td>\n",
       "      <td>...</td>\n",
       "      <td>99.0</td>\n",
       "      <td>99</td>\n",
       "      <td>1</td>\n",
       "      <td>99</td>\n",
       "      <td>2</td>\n",
       "      <td>99</td>\n",
       "      <td>2</td>\n",
       "      <td>99</td>\n",
       "      <td>2</td>\n",
       "      <td>99</td>\n",
       "    </tr>\n",
       "    <tr>\n",
       "      <th>2</th>\n",
       "      <td>2</td>\n",
       "      <td>1</td>\n",
       "      <td>16</td>\n",
       "      <td>99.0</td>\n",
       "      <td>7.0</td>\n",
       "      <td>167581</td>\n",
       "      <td>754</td>\n",
       "      <td>143</td>\n",
       "      <td>1995</td>\n",
       "      <td>1</td>\n",
       "      <td>...</td>\n",
       "      <td>1.0</td>\n",
       "      <td>99</td>\n",
       "      <td>2</td>\n",
       "      <td>99</td>\n",
       "      <td>2</td>\n",
       "      <td>99</td>\n",
       "      <td>2</td>\n",
       "      <td>99</td>\n",
       "      <td>2</td>\n",
       "      <td>99</td>\n",
       "    </tr>\n",
       "    <tr>\n",
       "      <th>3</th>\n",
       "      <td>3</td>\n",
       "      <td>4</td>\n",
       "      <td>44</td>\n",
       "      <td>5.0</td>\n",
       "      <td>99.0</td>\n",
       "      <td>445071</td>\n",
       "      <td>5705</td>\n",
       "      <td>604</td>\n",
       "      <td>1980</td>\n",
       "      <td>1</td>\n",
       "      <td>...</td>\n",
       "      <td>99.0</td>\n",
       "      <td>99</td>\n",
       "      <td>2</td>\n",
       "      <td>99</td>\n",
       "      <td>2</td>\n",
       "      <td>99</td>\n",
       "      <td>99</td>\n",
       "      <td>99</td>\n",
       "      <td>99</td>\n",
       "      <td>99</td>\n",
       "    </tr>\n",
       "    <tr>\n",
       "      <th>4</th>\n",
       "      <td>4</td>\n",
       "      <td>4</td>\n",
       "      <td>43</td>\n",
       "      <td>99.0</td>\n",
       "      <td>6.0</td>\n",
       "      <td>436161</td>\n",
       "      <td>5645</td>\n",
       "      <td>592</td>\n",
       "      <td>1958</td>\n",
       "      <td>1</td>\n",
       "      <td>...</td>\n",
       "      <td>99.0</td>\n",
       "      <td>99</td>\n",
       "      <td>1</td>\n",
       "      <td>99</td>\n",
       "      <td>1</td>\n",
       "      <td>99</td>\n",
       "      <td>1</td>\n",
       "      <td>99</td>\n",
       "      <td>1</td>\n",
       "      <td>99</td>\n",
       "    </tr>\n",
       "  </tbody>\n",
       "</table>\n",
       "<p>5 rows × 1235 columns</p>\n",
       "</div>"
      ],
      "text/plain": [
       "   train_id  AA3  AA4   AA5   AA6     AA7  AA14  AA15   DG1  is_female  \\\n",
       "0         0    3   32   3.0  99.0  323011  3854   481  1975          1   \n",
       "1         1    2   26  99.0   8.0  268131  2441   344  1981          1   \n",
       "2         2    1   16  99.0   7.0  167581   754   143  1995          1   \n",
       "3         3    4   44   5.0  99.0  445071  5705   604  1980          1   \n",
       "4         4    4   43  99.0   6.0  436161  5645   592  1958          1   \n",
       "\n",
       "      ...       GN1  GN1_OTHERS GN2  GN2_OTHERS  GN3  GN3_OTHERS  GN4  \\\n",
       "0     ...      99.0          99  99          99   99          99   99   \n",
       "1     ...      99.0          99   1          99    2          99    2   \n",
       "2     ...       1.0          99   2          99    2          99    2   \n",
       "3     ...      99.0          99   2          99    2          99   99   \n",
       "4     ...      99.0          99   1          99    1          99    1   \n",
       "\n",
       "   GN4_OTHERS  GN5  GN5_OTHERS  \n",
       "0          99   99          99  \n",
       "1          99    2          99  \n",
       "2          99    2          99  \n",
       "3          99   99          99  \n",
       "4          99    1          99  \n",
       "\n",
       "[5 rows x 1235 columns]"
      ]
     },
     "execution_count": 37,
     "metadata": {},
     "output_type": "execute_result"
    }
   ],
   "source": [
    "train = pd.read_csv('train.csv').fillna(99)\n",
    "train.head()"
   ]
  },
  {
   "cell_type": "code",
   "execution_count": 38,
   "metadata": {
    "collapsed": true
   },
   "outputs": [],
   "source": [
    "inc_col = [\"DG3\",\"DG4\",\"DG6\",\"DG12B_1\",\"DG12B_2\",\"DG12C_1\",\"DG12C_2\",\"DG13_1\",\"DG13_2\",\"DG13_3\",\"DG14\",\"DL0\",\"DL1\",\n",
    "           \"DL2\",\"DL4_5\",\"DL4_11\",\"DL4_15\",\"DL4_16\",\"DL4_17\",\"DL4_20\",\"DL4_21\",\"DL4_22\",\"DL4_23\",\"DL5\",\"DL7\",\"DL15\",\n",
    "           \"DL26_5\",\"DL27\",\"DL28\",\"G2P1_5\",\"G2P1_6\",\"G2P1_7\",\"G2P1_11\",\"G2P1_12\",\"G2P1_15\",\"G2P1_16\",\"MT1A\",\"MT2\",\n",
    "           \"MT6\",\"MT7\",\"MT7A\",\"MT9\",\"MT18_2\",\"MT18_3\",\"MT18_4\",\"MT18_5\",\"FF1\",\"FF2\",\"FF14_20\",\"FF16_12\",\"FF16_13\",\n",
    "           \"FF16_19\",\"FF16_20\",\"MM13\",\"IFI16_1\",\"IFI16_3\",\"IFI24\",\"FL1\",\"FL3\",\"FL4\",\"FL6_1\",\"FL6_2\",\"FL7_6\",\"FL8_3\",\n",
    "           \"FL8_6\",\"FL8_7\",\"FL9A\",\"FL9B\",\"FL9C\",\"FL10\",\"FL12\",\"FL13\",\"FL14\",\"FL16\",\"FL17\",\"FL18\",\"FB19\",\"FB20\",\"FB21\",\n",
    "           \"FB24\",\"FB25\",\"FB27_1\",\"FB27_2\",\"FB27_3\",\"FB27_4\",\"FB27_5\",\"FB27_6\",\"FB27_7\",\"FB27_8\",\"FB27_9\",\"FB27_96\",\n",
    "           \"LN1A\",\"LN1B\",\"LN2_1\",\"LN2_2\",\"LN2_3\",\"LN2_4\",\"GN1\",\"GN2\",\"GN3\",\"GN4\",\"GN5\",\"RI4\"]\n",
    "x_cols = [x for x in train.columns if x in inc_col]"
   ]
  },
  {
   "cell_type": "code",
   "execution_count": 39,
   "metadata": {
    "collapsed": false
   },
   "outputs": [
    {
     "data": {
      "text/plain": [
       "102"
      ]
     },
     "execution_count": 39,
     "metadata": {},
     "output_type": "execute_result"
    }
   ],
   "source": [
    "len(x_cols)"
   ]
  },
  {
   "cell_type": "code",
   "execution_count": 40,
   "metadata": {
    "collapsed": true
   },
   "outputs": [],
   "source": [
    "from catboost import CatBoostClassifier"
   ]
  },
  {
   "cell_type": "code",
   "execution_count": 41,
   "metadata": {
    "collapsed": true
   },
   "outputs": [],
   "source": [
    "X_train, X_test, y_train, y_test = train_test_split(train[x_cols], train['is_female'], test_size=0.33)"
   ]
  },
  {
   "cell_type": "code",
   "execution_count": 42,
   "metadata": {
    "collapsed": false
   },
   "outputs": [],
   "source": [
    "from sklearn.preprocessing import StandardScaler\n",
    "sc = StandardScaler()\n",
    "X_train = sc.fit_transform(X_train)\n",
    "X_test = sc.transform(X_test)"
   ]
  },
  {
   "cell_type": "code",
   "execution_count": 48,
   "metadata": {
    "collapsed": true
   },
   "outputs": [],
   "source": [
    "clf = CatBoostClassifier(eval_metric=\"AUC\", one_hot_max_size=3, iterations=10)"
   ]
  },
  {
   "cell_type": "code",
   "execution_count": 49,
   "metadata": {
    "collapsed": false
   },
   "outputs": [
    {
     "name": "stdout",
     "output_type": "stream",
     "text": [
      "0:\tlearn: 0.9269084\ttotal: 62.2ms\tremaining: 560ms\n",
      "1:\tlearn: 0.9400130\ttotal: 120ms\tremaining: 479ms\n",
      "2:\tlearn: 0.9390820\ttotal: 182ms\tremaining: 425ms\n",
      "3:\tlearn: 0.9419747\ttotal: 245ms\tremaining: 367ms\n",
      "4:\tlearn: 0.9440616\ttotal: 375ms\tremaining: 375ms\n",
      "5:\tlearn: 0.9469182\ttotal: 460ms\tremaining: 306ms\n",
      "6:\tlearn: 0.9475105\ttotal: 550ms\tremaining: 236ms\n",
      "7:\tlearn: 0.9462744\ttotal: 746ms\tremaining: 187ms\n",
      "8:\tlearn: 0.9452277\ttotal: 813ms\tremaining: 90.3ms\n",
      "9:\tlearn: 0.9460386\ttotal: 879ms\tremaining: 0us\n"
     ]
    },
    {
     "data": {
      "text/plain": [
       "<catboost.core._CatBoostBase at 0x111ab38d0>"
      ]
     },
     "execution_count": 49,
     "metadata": {},
     "output_type": "execute_result"
    }
   ],
   "source": [
    "clf.fit(X=X_train, y=y_train)"
   ]
  },
  {
   "cell_type": "code",
   "execution_count": 50,
   "metadata": {
    "collapsed": true
   },
   "outputs": [],
   "source": [
    "y_pred_proba = clf.predict_proba(X_test)\n",
    "y_pred = clf.predict(X_test)"
   ]
  },
  {
   "cell_type": "code",
   "execution_count": 51,
   "metadata": {
    "collapsed": false
   },
   "outputs": [
    {
     "name": "stdout",
     "output_type": "stream",
     "text": [
      "[[2362  413]\n",
      " [ 394 2856]]\n"
     ]
    }
   ],
   "source": [
    "print confusion_matrix(y_test, y_pred)"
   ]
  },
  {
   "cell_type": "code",
   "execution_count": 52,
   "metadata": {
    "collapsed": false
   },
   "outputs": [
    {
     "name": "stdout",
     "output_type": "stream",
     "text": [
      "             precision    recall  f1-score   support\n",
      "\n",
      "          0       0.86      0.85      0.85      2775\n",
      "          1       0.87      0.88      0.88      3250\n",
      "\n",
      "avg / total       0.87      0.87      0.87      6025\n",
      "\n"
     ]
    }
   ],
   "source": [
    "print classification_report(y_test, y_pred)"
   ]
  },
  {
   "cell_type": "code",
   "execution_count": 23,
   "metadata": {
    "collapsed": false
   },
   "outputs": [
    {
     "name": "stderr",
     "output_type": "stream",
     "text": [
      "/Users/nataliele.zhang/anaconda/lib/python2.7/site-packages/IPython/core/interactiveshell.py:2717: DtypeWarning: Columns (11,13,48,50,55,90,125,144,162,163,164,166,168,169,170,171,172,174,176,241,243,245,247,251,254,273,289,291,292,293,295,296,312,313,314,331,343,365,373,375,396,413,439,490,619,623,630,633,638,642,644,669,712,759,768,788,809,828,928,953,978,1000,1001,1002,1003,1004,1023,1036,1040,1042,1063,1085,1098,1099,1120,1128,1135,1151,1152,1165,1167,1181,1192,1204,1205,1206,1207,1215,1225,1227,1229,1231,1233) have mixed types. Specify dtype option on import or set low_memory=False.\n",
      "  interactivity=interactivity, compiler=compiler, result=result)\n"
     ]
    },
    {
     "data": {
      "text/html": [
       "<div>\n",
       "<table border=\"1\" class=\"dataframe\">\n",
       "  <thead>\n",
       "    <tr style=\"text-align: right;\">\n",
       "      <th></th>\n",
       "      <th>test_id</th>\n",
       "      <th>AA3</th>\n",
       "      <th>AA4</th>\n",
       "      <th>AA5</th>\n",
       "      <th>AA6</th>\n",
       "      <th>AA7</th>\n",
       "      <th>AA14</th>\n",
       "      <th>AA15</th>\n",
       "      <th>DG1</th>\n",
       "      <th>DG3</th>\n",
       "      <th>...</th>\n",
       "      <th>GN1</th>\n",
       "      <th>GN1_OTHERS</th>\n",
       "      <th>GN2</th>\n",
       "      <th>GN2_OTHERS</th>\n",
       "      <th>GN3</th>\n",
       "      <th>GN3_OTHERS</th>\n",
       "      <th>GN4</th>\n",
       "      <th>GN4_OTHERS</th>\n",
       "      <th>GN5</th>\n",
       "      <th>GN5_OTHERS</th>\n",
       "    </tr>\n",
       "  </thead>\n",
       "  <tbody>\n",
       "    <tr>\n",
       "      <th>0</th>\n",
       "      <td>0</td>\n",
       "      <td>4</td>\n",
       "      <td>41</td>\n",
       "      <td>-999.0</td>\n",
       "      <td>7.0</td>\n",
       "      <td>417211</td>\n",
       "      <td>4479</td>\n",
       "      <td>535</td>\n",
       "      <td>1979</td>\n",
       "      <td>8</td>\n",
       "      <td>...</td>\n",
       "      <td>2.0</td>\n",
       "      <td>-999</td>\n",
       "      <td>1</td>\n",
       "      <td>-999</td>\n",
       "      <td>3</td>\n",
       "      <td>-999</td>\n",
       "      <td>3</td>\n",
       "      <td>-999</td>\n",
       "      <td>3</td>\n",
       "      <td>-999</td>\n",
       "    </tr>\n",
       "    <tr>\n",
       "      <th>1</th>\n",
       "      <td>1</td>\n",
       "      <td>3</td>\n",
       "      <td>32</td>\n",
       "      <td>2.0</td>\n",
       "      <td>-999.0</td>\n",
       "      <td>322011</td>\n",
       "      <td>3803</td>\n",
       "      <td>476</td>\n",
       "      <td>1993</td>\n",
       "      <td>1</td>\n",
       "      <td>...</td>\n",
       "      <td>1.0</td>\n",
       "      <td>-999</td>\n",
       "      <td>1</td>\n",
       "      <td>-999</td>\n",
       "      <td>1</td>\n",
       "      <td>-999</td>\n",
       "      <td>1</td>\n",
       "      <td>-999</td>\n",
       "      <td>1</td>\n",
       "      <td>-999</td>\n",
       "    </tr>\n",
       "    <tr>\n",
       "      <th>2</th>\n",
       "      <td>2</td>\n",
       "      <td>3</td>\n",
       "      <td>36</td>\n",
       "      <td>5.0</td>\n",
       "      <td>-999.0</td>\n",
       "      <td>365011</td>\n",
       "      <td>5610</td>\n",
       "      <td>585</td>\n",
       "      <td>1980</td>\n",
       "      <td>3</td>\n",
       "      <td>...</td>\n",
       "      <td>2.0</td>\n",
       "      <td>-999</td>\n",
       "      <td>2</td>\n",
       "      <td>-999</td>\n",
       "      <td>2</td>\n",
       "      <td>-999</td>\n",
       "      <td>2</td>\n",
       "      <td>-999</td>\n",
       "      <td>2</td>\n",
       "      <td>-999</td>\n",
       "    </tr>\n",
       "    <tr>\n",
       "      <th>3</th>\n",
       "      <td>3</td>\n",
       "      <td>2</td>\n",
       "      <td>24</td>\n",
       "      <td>-999.0</td>\n",
       "      <td>7.0</td>\n",
       "      <td>247061</td>\n",
       "      <td>2550</td>\n",
       "      <td>350</td>\n",
       "      <td>1991</td>\n",
       "      <td>3</td>\n",
       "      <td>...</td>\n",
       "      <td>2.0</td>\n",
       "      <td>-999</td>\n",
       "      <td>2</td>\n",
       "      <td>-999</td>\n",
       "      <td>2</td>\n",
       "      <td>-999</td>\n",
       "      <td>2</td>\n",
       "      <td>-999</td>\n",
       "      <td>2</td>\n",
       "      <td>-999</td>\n",
       "    </tr>\n",
       "    <tr>\n",
       "      <th>4</th>\n",
       "      <td>4</td>\n",
       "      <td>3</td>\n",
       "      <td>35</td>\n",
       "      <td>-999.0</td>\n",
       "      <td>8.0</td>\n",
       "      <td>358071</td>\n",
       "      <td>3233</td>\n",
       "      <td>400</td>\n",
       "      <td>1985</td>\n",
       "      <td>3</td>\n",
       "      <td>...</td>\n",
       "      <td>1.0</td>\n",
       "      <td>-999</td>\n",
       "      <td>1</td>\n",
       "      <td>-999</td>\n",
       "      <td>1</td>\n",
       "      <td>-999</td>\n",
       "      <td>1</td>\n",
       "      <td>-999</td>\n",
       "      <td>1</td>\n",
       "      <td>-999</td>\n",
       "    </tr>\n",
       "  </tbody>\n",
       "</table>\n",
       "<p>5 rows × 1234 columns</p>\n",
       "</div>"
      ],
      "text/plain": [
       "   test_id  AA3  AA4    AA5    AA6     AA7  AA14  AA15   DG1  DG3     ...      \\\n",
       "0        0    4   41 -999.0    7.0  417211  4479   535  1979    8     ...       \n",
       "1        1    3   32    2.0 -999.0  322011  3803   476  1993    1     ...       \n",
       "2        2    3   36    5.0 -999.0  365011  5610   585  1980    3     ...       \n",
       "3        3    2   24 -999.0    7.0  247061  2550   350  1991    3     ...       \n",
       "4        4    3   35 -999.0    8.0  358071  3233   400  1985    3     ...       \n",
       "\n",
       "   GN1 GN1_OTHERS  GN2 GN2_OTHERS  GN3  GN3_OTHERS  GN4  GN4_OTHERS  GN5  \\\n",
       "0  2.0       -999    1       -999    3        -999    3        -999    3   \n",
       "1  1.0       -999    1       -999    1        -999    1        -999    1   \n",
       "2  2.0       -999    2       -999    2        -999    2        -999    2   \n",
       "3  2.0       -999    2       -999    2        -999    2        -999    2   \n",
       "4  1.0       -999    1       -999    1        -999    1        -999    1   \n",
       "\n",
       "   GN5_OTHERS  \n",
       "0        -999  \n",
       "1        -999  \n",
       "2        -999  \n",
       "3        -999  \n",
       "4        -999  \n",
       "\n",
       "[5 rows x 1234 columns]"
      ]
     },
     "execution_count": 23,
     "metadata": {},
     "output_type": "execute_result"
    }
   ],
   "source": [
    "test = pd.read_csv('test.csv').fillna(-999)\n",
    "test.head()"
   ]
  },
  {
   "cell_type": "code",
   "execution_count": 25,
   "metadata": {
    "collapsed": false
   },
   "outputs": [],
   "source": [
    "test_X = test[x_cols]"
   ]
  },
  {
   "cell_type": "code",
   "execution_count": 36,
   "metadata": {
    "collapsed": false
   },
   "outputs": [
    {
     "data": {
      "text/plain": [
       "(27285, 102)"
      ]
     },
     "execution_count": 36,
     "metadata": {},
     "output_type": "execute_result"
    }
   ],
   "source": [
    "test_X.shape"
   ]
  },
  {
   "cell_type": "code",
   "execution_count": 30,
   "metadata": {
    "collapsed": false
   },
   "outputs": [],
   "source": [
    "predict_prob_test = clf.predict_proba(test_X)"
   ]
  },
  {
   "cell_type": "code",
   "execution_count": 31,
   "metadata": {
    "collapsed": false
   },
   "outputs": [],
   "source": [
    "test['is_female'] = pd.DataFrame(predict_prob_test)[1]"
   ]
  },
  {
   "cell_type": "code",
   "execution_count": 32,
   "metadata": {
    "collapsed": true
   },
   "outputs": [],
   "source": [
    "test = test[['test_id', 'is_female']]"
   ]
  },
  {
   "cell_type": "code",
   "execution_count": 33,
   "metadata": {
    "collapsed": false
   },
   "outputs": [
    {
     "data": {
      "text/html": [
       "<div>\n",
       "<table border=\"1\" class=\"dataframe\">\n",
       "  <thead>\n",
       "    <tr style=\"text-align: right;\">\n",
       "      <th></th>\n",
       "      <th>test_id</th>\n",
       "      <th>is_female</th>\n",
       "    </tr>\n",
       "  </thead>\n",
       "  <tbody>\n",
       "    <tr>\n",
       "      <th>0</th>\n",
       "      <td>0</td>\n",
       "      <td>0.511260</td>\n",
       "    </tr>\n",
       "    <tr>\n",
       "      <th>1</th>\n",
       "      <td>1</td>\n",
       "      <td>0.501127</td>\n",
       "    </tr>\n",
       "    <tr>\n",
       "      <th>2</th>\n",
       "      <td>2</td>\n",
       "      <td>0.511277</td>\n",
       "    </tr>\n",
       "    <tr>\n",
       "      <th>3</th>\n",
       "      <td>3</td>\n",
       "      <td>0.511260</td>\n",
       "    </tr>\n",
       "    <tr>\n",
       "      <th>4</th>\n",
       "      <td>4</td>\n",
       "      <td>0.511277</td>\n",
       "    </tr>\n",
       "  </tbody>\n",
       "</table>\n",
       "</div>"
      ],
      "text/plain": [
       "   test_id  is_female\n",
       "0        0   0.511260\n",
       "1        1   0.501127\n",
       "2        2   0.511277\n",
       "3        3   0.511260\n",
       "4        4   0.511277"
      ]
     },
     "execution_count": 33,
     "metadata": {},
     "output_type": "execute_result"
    }
   ],
   "source": [
    "test.head()"
   ]
  },
  {
   "cell_type": "code",
   "execution_count": 34,
   "metadata": {
    "collapsed": true
   },
   "outputs": [],
   "source": [
    "test.to_csv('result_20180207_b.csv')"
   ]
  },
  {
   "cell_type": "code",
   "execution_count": null,
   "metadata": {
    "collapsed": true
   },
   "outputs": [],
   "source": [
    ""
   ]
  }
 ],
 "metadata": {
  "kernelspec": {
   "display_name": "Python 2",
   "language": "python",
   "name": "python2"
  },
  "language_info": {
   "codemirror_mode": {
    "name": "ipython",
    "version": 2.0
   },
   "file_extension": ".py",
   "mimetype": "text/x-python",
   "name": "python",
   "nbconvert_exporter": "python",
   "pygments_lexer": "ipython2",
   "version": "2.7.13"
  }
 },
 "nbformat": 4,
 "nbformat_minor": 0
}